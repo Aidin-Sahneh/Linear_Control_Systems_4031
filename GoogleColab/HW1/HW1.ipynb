{
  "nbformat": 4,
  "nbformat_minor": 0,
  "metadata": {
    "colab": {
      "provenance": []
    },
    "kernelspec": {
      "name": "python3",
      "display_name": "Python 3"
    },
    "language_info": {
      "name": "python"
    }
  },
  "cells": [
    {
      "cell_type": "code",
      "execution_count": 2,
      "metadata": {
        "colab": {
          "base_uri": "https://localhost:8080/",
          "height": 716
        },
        "id": "M8vHiC5KIfib",
        "outputId": "e1a4832e-0066-489d-d26f-95d1e0faeec8"
      },
      "outputs": [
        {
          "output_type": "stream",
          "name": "stdout",
          "text": [
            "Collecting control\n",
            "  Downloading control-0.10.1-py3-none-any.whl.metadata (7.6 kB)\n",
            "Requirement already satisfied: numpy>=1.23 in /usr/local/lib/python3.11/dist-packages (from control) (1.26.4)\n",
            "Requirement already satisfied: scipy>=1.8 in /usr/local/lib/python3.11/dist-packages (from control) (1.13.1)\n",
            "Requirement already satisfied: matplotlib>=3.6 in /usr/local/lib/python3.11/dist-packages (from control) (3.10.0)\n",
            "Requirement already satisfied: contourpy>=1.0.1 in /usr/local/lib/python3.11/dist-packages (from matplotlib>=3.6->control) (1.3.1)\n",
            "Requirement already satisfied: cycler>=0.10 in /usr/local/lib/python3.11/dist-packages (from matplotlib>=3.6->control) (0.12.1)\n",
            "Requirement already satisfied: fonttools>=4.22.0 in /usr/local/lib/python3.11/dist-packages (from matplotlib>=3.6->control) (4.55.7)\n",
            "Requirement already satisfied: kiwisolver>=1.3.1 in /usr/local/lib/python3.11/dist-packages (from matplotlib>=3.6->control) (1.4.8)\n",
            "Requirement already satisfied: packaging>=20.0 in /usr/local/lib/python3.11/dist-packages (from matplotlib>=3.6->control) (24.2)\n",
            "Requirement already satisfied: pillow>=8 in /usr/local/lib/python3.11/dist-packages (from matplotlib>=3.6->control) (11.1.0)\n",
            "Requirement already satisfied: pyparsing>=2.3.1 in /usr/local/lib/python3.11/dist-packages (from matplotlib>=3.6->control) (3.2.1)\n",
            "Requirement already satisfied: python-dateutil>=2.7 in /usr/local/lib/python3.11/dist-packages (from matplotlib>=3.6->control) (2.8.2)\n",
            "Requirement already satisfied: six>=1.5 in /usr/local/lib/python3.11/dist-packages (from python-dateutil>=2.7->matplotlib>=3.6->control) (1.17.0)\n",
            "Downloading control-0.10.1-py3-none-any.whl (549 kB)\n",
            "\u001b[2K   \u001b[90m━━━━━━━━━━━━━━━━━━━━━━━━━━━━━━━━━━━━━━━━\u001b[0m \u001b[32m549.6/549.6 kB\u001b[0m \u001b[31m7.2 MB/s\u001b[0m eta \u001b[36m0:00:00\u001b[0m\n",
            "\u001b[?25hInstalling collected packages: control\n",
            "Successfully installed control-0.10.1\n",
            "Simplified Transfer Function:\n",
            "<TransferFunction>: sys[48]\n",
            "Inputs (1): ['u[0]']\n",
            "Outputs (1): ['y[0]']\n",
            "\n",
            "\n",
            "-s^7 - 13 s^6 - 65 s^5 - 170 s^4 - 256 s^3 - 212 s^2 - 83 s - 12\n",
            "----------------------------------------------------------------\n",
            " s^8 + 9 s^7 + 31 s^6 + 54 s^5 + 59 s^4 + 51 s^3 + 29 s^2 + 6 s\n",
            "\n"
          ]
        },
        {
          "output_type": "error",
          "ename": "AttributeError",
          "evalue": "module 'control' has no attribute 'pole'",
          "traceback": [
            "\u001b[0;31m---------------------------------------------------------------------------\u001b[0m",
            "\u001b[0;31mAttributeError\u001b[0m                            Traceback (most recent call last)",
            "\u001b[0;32m<ipython-input-2-4b5c0dba91f2>\u001b[0m in \u001b[0;36m<cell line: 0>\u001b[0;34m()\u001b[0m\n\u001b[1;32m     39\u001b[0m \u001b[0;34m\u001b[0m\u001b[0m\n\u001b[1;32m     40\u001b[0m \u001b[0;31m# محاسبه قطب‌های سیستم\u001b[0m\u001b[0;34m\u001b[0m\u001b[0;34m\u001b[0m\u001b[0m\n\u001b[0;32m---> 41\u001b[0;31m \u001b[0mpoles\u001b[0m \u001b[0;34m=\u001b[0m \u001b[0mctrl\u001b[0m\u001b[0;34m.\u001b[0m\u001b[0mpole\u001b[0m\u001b[0;34m(\u001b[0m\u001b[0msoal4\u001b[0m\u001b[0;34m)\u001b[0m\u001b[0;34m\u001b[0m\u001b[0;34m\u001b[0m\u001b[0m\n\u001b[0m\u001b[1;32m     42\u001b[0m \u001b[0mprint\u001b[0m\u001b[0;34m(\u001b[0m\u001b[0;34m\"\\nPoles of the system:\"\u001b[0m\u001b[0;34m)\u001b[0m\u001b[0;34m\u001b[0m\u001b[0;34m\u001b[0m\u001b[0m\n\u001b[1;32m     43\u001b[0m \u001b[0mprint\u001b[0m\u001b[0;34m(\u001b[0m\u001b[0mpoles\u001b[0m\u001b[0;34m)\u001b[0m\u001b[0;34m\u001b[0m\u001b[0;34m\u001b[0m\u001b[0m\n",
            "\u001b[0;31mAttributeError\u001b[0m: module 'control' has no attribute 'pole'"
          ]
        }
      ],
      "source": [
        "!pip install control\n",
        "\n",
        "import numpy as np\n",
        "import control as ctrl\n",
        "\n",
        "\n",
        "s = ctrl.TransferFunction([1, 0], [1])\n",
        "\n",
        "\n",
        "G1 = 1 / s\n",
        "G2 = 2 * s + 1\n",
        "G3 = 1 / (s**2 + 1)\n",
        "G4 = s / (s + 1)\n",
        "\n",
        "H1 = 3 / s\n",
        "H2 = (s - 1) / (s + 3)\n",
        "H3 = s / (s**2 + 3*s + 1)\n",
        "H4 = 1 / (s + 2)\n",
        "\n",
        "\n",
        "\n",
        "\n",
        "\n",
        "G1_input = G1 - H1 - H3\n",
        "\n",
        "\n",
        "G2_input = G2 * G1_input\n",
        "\n",
        "\n",
        "G3_input = G2_input - H2 + G4\n",
        "G3_output = G3 * G3_input\n",
        "\n",
        "\n",
        "soal4 = ctrl.minreal(G3_output - H4, verbose=False)\n",
        "\n",
        "\n",
        "print(\"Simplified Transfer Function:\")\n",
        "print(soal4)\n",
        "\n",
        "\n",
        "poles = ctrl.pole(soal4)\n",
        "print(\"\\nPoles of the system:\")\n",
        "print(poles)\n"
      ]
    }
  ]
}